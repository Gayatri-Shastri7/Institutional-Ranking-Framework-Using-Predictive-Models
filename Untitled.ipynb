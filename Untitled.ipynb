{
 "cells": [
  {
   "cell_type": "code",
   "execution_count": 1,
   "metadata": {},
   "outputs": [
    {
     "name": "stdout",
     "output_type": "stream",
     "text": [
      "Requirement already satisfied: html-table-parser-python3 in c:\\programdata\\anaconda3\\lib\\site-packages (0.2.0)\n",
      "Note: you may need to restart the kernel to use updated packages.\n"
     ]
    }
   ],
   "source": [
    "pip install html-table-parser-python3\n"
   ]
  },
  {
   "cell_type": "code",
   "execution_count": 2,
   "metadata": {},
   "outputs": [
    {
     "name": "stdout",
     "output_type": "stream",
     "text": [
      "[['', 'Chennai', 'Tamil Nadu', '90.19', '1'],\n",
      " ['IR-E-I-1074',\n",
      "  'Indian Institute of Technology Delhi More Details Close | | TLR (100)',\n",
      "  'RPC (100)',\n",
      "  'GO (100)',\n",
      "  'OI (100)',\n",
      "  'PERCEPTION (100)'],\n",
      " ['91.76', '95.82', '80.97', '66.39', '98.63']]\n",
      "\n",
      "\n",
      "PANDAS DATAFRAME\n",
      "\n",
      "             0                                                  1           2  \\\n",
      "0                                                         Chennai  Tamil Nadu   \n",
      "1  IR-E-I-1074  Indian Institute of Technology Delhi More Deta...   RPC (100)   \n",
      "2        91.76                                              95.82       80.97   \n",
      "\n",
      "          3         4                 5  \n",
      "0     90.19         1              None  \n",
      "1  GO (100)  OI (100)  PERCEPTION (100)  \n",
      "2     66.39     98.63              None  \n"
     ]
    }
   ],
   "source": [
    "# Library for opening url and creating\n",
    "# requests\n",
    "import urllib.request\n",
    "\n",
    "# pretty-print python data structures\n",
    "from pprint import pprint\n",
    "\n",
    "# for parsing all the tables present\n",
    "# on the website\n",
    "from html_table_parser.parser import HTMLTableParser\n",
    "\n",
    "# for converting the parsed data in a\n",
    "# pandas dataframe\n",
    "import pandas as pd\n",
    "\n",
    "\n",
    "# Opens a website and read its\n",
    "# binary contents (HTTP Response Body)\n",
    "def url_get_contents(url):\n",
    "\n",
    "\t# Opens a website and read its\n",
    "\t# binary contents (HTTP Response Body)\n",
    "\n",
    "\t#making request to the website\n",
    "\treq = urllib.request.Request(url=url)\n",
    "\tf = urllib.request.urlopen(req)\n",
    "\n",
    "\t#reading contents of the website\n",
    "\treturn f.read()\n",
    "\n",
    "# defining the html contents of a URL.\n",
    "xhtml = url_get_contents('https://www.nirfindia.org/2021/EngineeringRanking.html').decode('utf-8')\n",
    "\n",
    "# Defining the HTMLTableParser object\n",
    "p = HTMLTableParser()\n",
    "\n",
    "# feeding the html contents in the\n",
    "# HTMLTableParser object\n",
    "p.feed(xhtml)\n",
    "\n",
    "# Now finally obtaining the data of\n",
    "# the table required\n",
    "pprint(p.tables[1])\n",
    "\n",
    "# converting the parsed data to\n",
    "# dataframe\n",
    "print(\"\\n\\nPANDAS DATAFRAME\\n\")\n",
    "print(pd.DataFrame(p.tables[1]))\n"
   ]
  },
  {
   "cell_type": "code",
   "execution_count": null,
   "metadata": {},
   "outputs": [],
   "source": []
  }
 ],
 "metadata": {
  "kernelspec": {
   "display_name": "Python 3",
   "language": "python",
   "name": "python3"
  },
  "language_info": {
   "codemirror_mode": {
    "name": "ipython",
    "version": 3
   },
   "file_extension": ".py",
   "mimetype": "text/x-python",
   "name": "python",
   "nbconvert_exporter": "python",
   "pygments_lexer": "ipython3",
   "version": "3.8.5"
  }
 },
 "nbformat": 4,
 "nbformat_minor": 4
}
